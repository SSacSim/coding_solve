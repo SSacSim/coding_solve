{
 "cells": [
  {
   "cell_type": "code",
   "execution_count": 207,
   "metadata": {},
   "outputs": [],
   "source": [
    "cards = [11,11,11,11,11,11,11]"
   ]
  },
  {
   "cell_type": "code",
   "execution_count": 208,
   "metadata": {},
   "outputs": [],
   "source": [
    "dict_list = {}"
   ]
  },
  {
   "cell_type": "code",
   "execution_count": 209,
   "metadata": {},
   "outputs": [],
   "source": [
    "count_list = [0,0,0,0]"
   ]
  },
  {
   "cell_type": "code",
   "execution_count": 210,
   "metadata": {},
   "outputs": [
    {
     "name": "stdout",
     "output_type": "stream",
     "text": [
      "11\n",
      "[0, 1, 0, 0]\n",
      "11\n",
      "[0, 0, 1, 0]\n",
      "11\n",
      "[0, 0, 0, 1]\n",
      "11\n"
     ]
    },
    {
     "ename": "IndexError",
     "evalue": "list index out of range",
     "output_type": "error",
     "traceback": [
      "\u001b[0;31m---------------------------------------------------------------------------\u001b[0m",
      "\u001b[0;31mIndexError\u001b[0m                                Traceback (most recent call last)",
      "Cell \u001b[0;32mIn[210], line 12\u001b[0m\n\u001b[1;32m     10\u001b[0m     count_list[dict_list[i]] \u001b[39m-\u001b[39m\u001b[39m=\u001b[39m \u001b[39m1\u001b[39m\n\u001b[1;32m     11\u001b[0m     dict_list[i] \u001b[39m+\u001b[39m\u001b[39m=\u001b[39m \u001b[39m1\u001b[39m\n\u001b[0;32m---> 12\u001b[0m     count_list[dict_list[i]] \u001b[39m+\u001b[39m\u001b[39m=\u001b[39m \u001b[39m1\u001b[39m\n\u001b[1;32m     14\u001b[0m \u001b[39mif\u001b[39;00m count_list[\u001b[39m3\u001b[39m] \u001b[39m>\u001b[39m\u001b[39m=\u001b[39m \u001b[39m1\u001b[39m \u001b[39mand\u001b[39;00m count_list[\u001b[39m2\u001b[39m] \u001b[39m>\u001b[39m\u001b[39m=\u001b[39m \u001b[39m1\u001b[39m:\n\u001b[1;32m     15\u001b[0m     answer \u001b[39m+\u001b[39m\u001b[39m=\u001b[39m\u001b[39m1\u001b[39m\n",
      "\u001b[0;31mIndexError\u001b[0m: list index out of range"
     ]
    }
   ],
   "source": [
    "answer = 0\n",
    "for i in cards:\n",
    "    print(i)\n",
    "    if i == 0 :\n",
    "        count_list[0] += 1\n",
    "    elif i not in dict_list:\n",
    "        dict_list[i] = 1\n",
    "        count_list[1] += 1\n",
    "    else:\n",
    "        if dict_list[i] <3 :\n",
    "            count_list[dict_list[i]] -= 1\n",
    "            dict_list[i] += 1\n",
    "            count_list[dict_list[i]] += 1\n",
    "        \n",
    "    if count_list[3] >= 1 and count_list[2] >= 1:\n",
    "        answer +=1\n",
    "        count_list = [0,0,0,0] # reset\n",
    "        dict_list = {}\n",
    "    elif count_list[3] >= 1 and count_list[1] >= 1 and count_list[0] >= 1:\n",
    "        answer +=1\n",
    "        count_list = [0,0,0,0] # reset\n",
    "        dict_list = {}\n",
    "    elif count_list[3] >= 1 and count_list[0] >= 2:\n",
    "        answer +=1\n",
    "        count_list = [0,0,0,0] # reset\n",
    "        dict_list = {}\n",
    "        \n",
    "    elif count_list[2] >= 2 and count_list[0] >= 1:\n",
    "        answer +=1\n",
    "        count_list = [0,0,0,0] # reset\n",
    "        dict_list = {}\n",
    "    elif count_list[2] >= 1 and count_list[1] >= 1 and count_list[0] >= 2:\n",
    "        answer +=1\n",
    "        count_list = [0,0,0,0] # reset\n",
    "        dict_list = {}\n",
    "    elif count_list[2] >= 1 and count_list[0] >= 3:\n",
    "        answer +=1\n",
    "        count_list = [0,0,0,0] # reset\n",
    "        dict_list = {}\n",
    "    \n",
    "    elif count_list[1] >= 2 and count_list[0] >= 3:\n",
    "        answer +=1\n",
    "        count_list = [0,0,0,0] # reset\n",
    "        dict_list = {}\n",
    "    elif count_list[1] >= 1 and count_list[0] >= 4:\n",
    "        answer +=1\n",
    "        count_list = [0,0,0,0] # reset\n",
    "        dict_list = {}\n",
    "    elif count_list[0] >= 5:\n",
    "        answer +=1\n",
    "        count_list = [0,0,0,0] # reset\n",
    "        dict_list = {}\n",
    "    \n",
    "    print(count_list)"
   ]
  },
  {
   "cell_type": "code",
   "execution_count": 211,
   "metadata": {},
   "outputs": [
    {
     "data": {
      "text/plain": [
       "0"
      ]
     },
     "execution_count": 211,
     "metadata": {},
     "output_type": "execute_result"
    }
   ],
   "source": [
    "answer"
   ]
  },
  {
   "cell_type": "code",
   "execution_count": null,
   "metadata": {},
   "outputs": [],
   "source": []
  },
  {
   "attachments": {},
   "cell_type": "markdown",
   "metadata": {},
   "source": [
    "# 2번"
   ]
  },
  {
   "cell_type": "code",
   "execution_count": 130,
   "metadata": {},
   "outputs": [],
   "source": [
    "n = 2\n",
    "m = 2\n",
    "# queries = [[1, 1, 1], [1, 2, 0], [2, 2, 0]]\n",
    "# queries = [[1, 1, 0],[2, 2, 0]]\n",
    "queries = [[1, 1, 1], [1, 2, 0], [2, 2, 1]]"
   ]
  },
  {
   "cell_type": "code",
   "execution_count": 131,
   "metadata": {},
   "outputs": [],
   "source": [
    "n_flag = [-1 for _ in range(n+1)] # 1base\n",
    "m_flag = [-1 for _ in range(m + 1)]"
   ]
  },
  {
   "cell_type": "code",
   "execution_count": 132,
   "metadata": {},
   "outputs": [],
   "source": [
    "queries.sort(key = lambda x : x[2],reverse=True)"
   ]
  },
  {
   "cell_type": "code",
   "execution_count": 133,
   "metadata": {},
   "outputs": [
    {
     "data": {
      "text/plain": [
       "[[1, 1, 1], [2, 2, 1], [1, 2, 0]]"
      ]
     },
     "execution_count": 133,
     "metadata": {},
     "output_type": "execute_result"
    }
   ],
   "source": [
    "queries"
   ]
  },
  {
   "cell_type": "code",
   "execution_count": 134,
   "metadata": {},
   "outputs": [
    {
     "name": "stdout",
     "output_type": "stream",
     "text": [
      "[-1, -1]\n"
     ]
    }
   ],
   "source": [
    "not_run = 0\n",
    "for i in queries:\n",
    "    if i[2] == 1:\n",
    "        n_flag[i[0]] = 1\n",
    "        m_flag[i[1]] = 1\n",
    "    else:\n",
    "        #만약, n_flag[i[0]] | m_flag[i[0]] == 1\n",
    "        if n_flag[i[0]] == 1 and m_flag[i[1]] == 1 :\n",
    "            not_run = 1\n",
    "            break\n",
    "        if n_flag[i[0]] == 1 :\n",
    "            m_flag[i[1]] = 0\n",
    "        elif m_flag[i[1]] == 1: # 둘중 하나라도 정상 작동이면,\n",
    "            n_flag[i[0]] = 0\n",
    "    "
   ]
  },
  {
   "cell_type": "code",
   "execution_count": 138,
   "metadata": {},
   "outputs": [
    {
     "name": "stdout",
     "output_type": "stream",
     "text": [
      "[-1, -1]\n"
     ]
    },
    {
     "data": {
      "text/plain": [
       "([-1, 1, 1], [-1, 1, 1])"
      ]
     },
     "execution_count": 138,
     "metadata": {},
     "output_type": "execute_result"
    }
   ],
   "source": [
    "answer = 0\n",
    "not_answer = 0\n",
    "if not_run == 1:\n",
    "    print([-1,-1])\n",
    "else:\n",
    "    for i in n_flag:\n",
    "        if i == 1:\n",
    "            answer += 1\n",
    "        elif i== 0 :\n",
    "            not_answer += 1\n",
    "    for i in m_flag:\n",
    "        if i == 1:\n",
    "            answer += 1\n",
    "        elif i== 0 :\n",
    "            not_answer += 1\n",
    "    print(answer,not_answer)"
   ]
  },
  {
   "cell_type": "code",
   "execution_count": 136,
   "metadata": {},
   "outputs": [
    {
     "data": {
      "text/plain": [
       "(4, 0)"
      ]
     },
     "execution_count": 136,
     "metadata": {},
     "output_type": "execute_result"
    }
   ],
   "source": [
    "answer,not_answer"
   ]
  },
  {
   "cell_type": "code",
   "execution_count": 137,
   "metadata": {},
   "outputs": [
    {
     "data": {
      "text/plain": [
       "([-1, 1, 1], [-1, 1, 1])"
      ]
     },
     "execution_count": 137,
     "metadata": {},
     "output_type": "execute_result"
    }
   ],
   "source": [
    "n_flag , m_flag"
   ]
  },
  {
   "attachments": {},
   "cell_type": "markdown",
   "metadata": {},
   "source": []
  },
  {
   "cell_type": "code",
   "execution_count": null,
   "metadata": {},
   "outputs": [],
   "source": []
  },
  {
   "attachments": {},
   "cell_type": "markdown",
   "metadata": {},
   "source": [
    "# 3번"
   ]
  },
  {
   "cell_type": "code",
   "execution_count": 212,
   "metadata": {},
   "outputs": [],
   "source": [
    "s = [3,1,3,1,3,1,2,1]\n",
    "\n",
    "my_dict = {1 : 0,\n",
    "           2 : 0,\n",
    "           3 : 0,\n",
    "           4 : 0}\n",
    "for i in s:\n",
    "    my_dict[i] += 1"
   ]
  },
  {
   "cell_type": "code",
   "execution_count": 213,
   "metadata": {},
   "outputs": [
    {
     "data": {
      "text/plain": [
       "{1: 4, 2: 1, 3: 3, 4: 0}"
      ]
     },
     "execution_count": 213,
     "metadata": {},
     "output_type": "execute_result"
    }
   ],
   "source": [
    "my_dict"
   ]
  },
  {
   "cell_type": "code",
   "execution_count": 214,
   "metadata": {},
   "outputs": [
    {
     "name": "stdout",
     "output_type": "stream",
     "text": [
      "------my_dict {1: 1, 2: 1, 3: 0, 4: 0}\n",
      "------my_dict {1: 0, 2: 0, 3: 0, 4: 0}\n",
      "------my_dict {1: 0, 2: 0, 3: 0, 4: 0}\n"
     ]
    }
   ],
   "source": [
    "answer = 0\n",
    "# 4만드는 경우수 : 4\n",
    "answer += my_dict[4]\n",
    "my_dict[4] = 0\n",
    "# 2 + 2 \n",
    "answer += my_dict[2] //2 \n",
    "my_dict[2] -= my_dict[2]//2 * 2 \n",
    "\n",
    "# 3 + 1 \n",
    "temp_min = min(my_dict[3],my_dict[1])\n",
    "answer += temp_min\n",
    "my_dict[3] -= temp_min\n",
    "my_dict[1] -= temp_min \n",
    "\n",
    "# 2, 1\n",
    "temp_min = min(my_dict[2] , my_dict[1]//2)\n",
    "answer += temp_min\n",
    "my_dict[2] -= temp_min\n",
    "my_dict[1] -= temp_min *2\n",
    "# 1 4개\n",
    "answer += my_dict[1] //4 \n",
    "my_dict[1] -= my_dict[1] // 4  * 4\n",
    "\n",
    "print(\"------my_dict\",my_dict)\n",
    "## 3만드는 경우 수 : 3 \n",
    "answer += my_dict[3]\n",
    "my_dict[3] = 0\n",
    "# 2 + 1 \n",
    "temp_min = min(my_dict[2],my_dict[1])\n",
    "answer += temp_min\n",
    "my_dict[2] -= temp_min\n",
    "my_dict[1] -= temp_min \n",
    "\n",
    "# 1 3개\n",
    "answer += my_dict[1] // 3 \n",
    "my_dict[1] -= my_dict[1] // 3 * 3\n",
    "\n",
    "print(\"------my_dict\",my_dict)\n",
    "## 2만드는 경우 수 :2 \n",
    "answer += my_dict[2]\n",
    "my_dict[2] = 0\n",
    "# 1 + 1  \n",
    "answer += my_dict[1] // 2\n",
    "my_dict[1] -= my_dict[1] // 2  * 2 \n",
    "\n",
    "# 1만드는 경우 수:\n",
    "answer += my_dict[1]\n",
    "\n",
    "print(\"------my_dict\",my_dict)\n"
   ]
  },
  {
   "cell_type": "code",
   "execution_count": 215,
   "metadata": {},
   "outputs": [
    {
     "data": {
      "text/plain": [
       "4"
      ]
     },
     "execution_count": 215,
     "metadata": {},
     "output_type": "execute_result"
    }
   ],
   "source": [
    "answer"
   ]
  },
  {
   "attachments": {},
   "cell_type": "markdown",
   "metadata": {},
   "source": [
    "# BFS"
   ]
  },
  {
   "cell_type": "code",
   "execution_count": 42,
   "metadata": {},
   "outputs": [],
   "source": [
    "\n",
    "matrix = []"
   ]
  },
  {
   "cell_type": "code",
   "execution_count": 43,
   "metadata": {},
   "outputs": [],
   "source": [
    "M , N = map(int,input().split(\" \"))"
   ]
  },
  {
   "cell_type": "code",
   "execution_count": 44,
   "metadata": {},
   "outputs": [],
   "source": [
    "for _ in range(M):\n",
    "    matrix.append(list(map(int,input().split(\" \"))))"
   ]
  },
  {
   "cell_type": "code",
   "execution_count": 52,
   "metadata": {},
   "outputs": [
    {
     "data": {
      "text/plain": [
       "[[50, 45, 37, 32, 30],\n",
       " [35, 50, 40, 20, 25],\n",
       " [30, 30, 25, 17, 28],\n",
       " [27, 24, 22, 15, 10]]"
      ]
     },
     "execution_count": 52,
     "metadata": {},
     "output_type": "execute_result"
    }
   ],
   "source": [
    "matrix"
   ]
  },
  {
   "cell_type": "code",
   "execution_count": 61,
   "metadata": {},
   "outputs": [],
   "source": [
    "visit = [[0 for _ in range(N)]  for _ in range(M) ] # 해당 지점을 방문했는가?\n",
    "ok_flag = [[0 for _ in range(N)]  for _ in range(M) ] # 해당 지점은 시작 지점과 연결이 되어있는가?\n",
    "visit[0][0] = 1\n",
    "ok_flag[0][0] = 1"
   ]
  },
  {
   "cell_type": "code",
   "execution_count": 62,
   "metadata": {},
   "outputs": [],
   "source": [
    "start , end = 0,0"
   ]
  },
  {
   "cell_type": "code",
   "execution_count": 63,
   "metadata": {},
   "outputs": [],
   "source": [
    "from collections import deque\n",
    "\n",
    "myq = deque([]) # [행,열] 좌표  M,N 좌표\n",
    "myq.append([0,0])"
   ]
  },
  {
   "cell_type": "code",
   "execution_count": 64,
   "metadata": {},
   "outputs": [
    {
     "name": "stdout",
     "output_type": "stream",
     "text": [
      "===================\n",
      "deque([[0, 0]])\n",
      "pop_m, pop_n 0 0\n",
      "===================\n",
      "deque([[0, 1], [1, 0]])\n",
      "pop_m, pop_n 0 1\n",
      "===================\n",
      "deque([[1, 0], [0, 2]])\n",
      "pop_m, pop_n 1 0\n",
      "===================\n",
      "deque([[0, 2], [2, 0]])\n",
      "pop_m, pop_n 0 2\n",
      "===================\n",
      "deque([[2, 0], [0, 3]])\n",
      "pop_m, pop_n 2 0\n",
      "===================\n",
      "deque([[0, 3], [3, 0]])\n",
      "pop_m, pop_n 0 3\n",
      "===================\n",
      "deque([[3, 0], [0, 4], [1, 3]])\n",
      "pop_m, pop_n 3 0\n",
      "===================\n",
      "deque([[0, 4], [1, 3], [3, 1]])\n",
      "pop_m, pop_n 0 4\n",
      "===================\n",
      "deque([[1, 3], [3, 1], [1, 4]])\n",
      "pop_m, pop_n 1 3\n",
      "===================\n",
      "deque([[3, 1], [1, 4], [2, 3]])\n",
      "pop_m, pop_n 3 1\n",
      "===================\n",
      "deque([[1, 4], [2, 3], [3, 2]])\n",
      "pop_m, pop_n 1 4\n",
      "===================\n",
      "deque([[2, 3], [3, 2], [1, 3]])\n",
      "pop_m, pop_n 2 3\n",
      "===================\n",
      "deque([[3, 2], [1, 3], [3, 3]])\n",
      "pop_m, pop_n 3 2\n",
      "===================\n",
      "deque([[1, 3], [3, 3], [3, 3]])\n",
      "pop_m, pop_n 1 3\n",
      "===================\n",
      "deque([[3, 3], [3, 3], [2, 3]])\n",
      "pop_m, pop_n 3 3\n",
      "===================\n",
      "deque([[3, 3], [2, 3], [3, 4]])\n",
      "pop_m, pop_n 3 3\n",
      "===================\n",
      "deque([[2, 3], [3, 4], [3, 4]])\n",
      "pop_m, pop_n 2 3\n",
      "===================\n",
      "deque([[3, 4], [3, 4], [3, 3]])\n",
      "pop_m, pop_n 3 4\n",
      "도착\n",
      "===================\n",
      "deque([[3, 4], [3, 3]])\n",
      "pop_m, pop_n 3 4\n",
      "도착\n",
      "===================\n",
      "deque([[3, 3]])\n",
      "pop_m, pop_n 3 3\n",
      "===================\n",
      "deque([[3, 4]])\n",
      "pop_m, pop_n 3 4\n",
      "도착\n"
     ]
    }
   ],
   "source": [
    "\n",
    "dm = [0 , 1 , 0 ,-1] # 세로\n",
    "dn = [1 ,0 , -1 , 0] # 가로 # 우 하 좌 상\n",
    "count = 0\n",
    "t = 0\n",
    "\n",
    "while len(myq) != 0:\n",
    "    print(\"===================\")\n",
    "    print(myq)\n",
    "    pop_list = myq.popleft()\n",
    "    pop_m , pop_n = pop_list[0], pop_list[1] # 현재의 m, n 좌표임\n",
    "    print(\"pop_m, pop_n\" , pop_m, pop_n)\n",
    "    if pop_m == len(matrix) - 1 and pop_n == len(matrix[0]) - 1:\n",
    "        print(\"도착\")\n",
    "        count += 1\n",
    "        continue\n",
    "    # 4면 모두 보기\n",
    "    # 1. matrix안에 들어가는지 확인\n",
    "    # 2. 현재 값보다 작은지 확인 후 insert\n",
    "    for i in range(4):  \n",
    "        \n",
    "        if pop_m + dm[i] >= 0 and (pop_m + dm[i] < len(matrix)) and\\\n",
    "            (pop_n + dn[i] >= 0) and (pop_n + dn[i] < len(matrix[0])):\n",
    "                # 1 조건\n",
    "                if matrix[pop_m + dm[i]][pop_n + dn[i]] < matrix[pop_m][pop_n]: # 조건 2\n",
    "                    myq.append([pop_m+ dm[i], pop_n + dn[i]])\n",
    "                    ok_flag[pop_m + dm[i]][pop_n + dn[i]] = 1\n",
    "                visit[pop_m + dm[i]][pop_n + dn[i]] = 1 "
   ]
  },
  {
   "cell_type": "code",
   "execution_count": 65,
   "metadata": {},
   "outputs": [
    {
     "data": {
      "text/plain": [
       "3"
      ]
     },
     "execution_count": 65,
     "metadata": {},
     "output_type": "execute_result"
    }
   ],
   "source": [
    "count"
   ]
  },
  {
   "cell_type": "code",
   "execution_count": 66,
   "metadata": {},
   "outputs": [
    {
     "data": {
      "text/plain": [
       "[[1, 1, 1, 1, 1], [1, 1, 1, 1, 1], [1, 1, 1, 1, 1], [1, 1, 1, 1, 1]]"
      ]
     },
     "execution_count": 66,
     "metadata": {},
     "output_type": "execute_result"
    }
   ],
   "source": [
    "visit"
   ]
  },
  {
   "cell_type": "code",
   "execution_count": 68,
   "metadata": {},
   "outputs": [
    {
     "data": {
      "text/plain": [
       "[[1, 1, 1, 1, 1], [1, 0, 0, 1, 1], [1, 0, 0, 1, 0], [1, 1, 1, 1, 1]]"
      ]
     },
     "execution_count": 68,
     "metadata": {},
     "output_type": "execute_result"
    }
   ],
   "source": [
    "ok_flag"
   ]
  },
  {
   "cell_type": "code",
   "execution_count": null,
   "metadata": {},
   "outputs": [],
   "source": []
  },
  {
   "attachments": {},
   "cell_type": "markdown",
   "metadata": {},
   "source": [
    "# 파이프"
   ]
  },
  {
   "cell_type": "code",
   "execution_count": 15,
   "metadata": {},
   "outputs": [],
   "source": [
    "N = int(input())\n",
    "matrix = []\n",
    "for _ in range(N):\n",
    "    matrix.append(list(map(int,input().split(\" \"))))"
   ]
  },
  {
   "cell_type": "code",
   "execution_count": 16,
   "metadata": {},
   "outputs": [],
   "source": [
    "ga = [[0 for _ in range(N)] for _ in range(N)]\n",
    "dae = [[0 for _ in range(N)] for _ in range(N)]\n",
    "sae = [[0 for _ in range(N)] for _ in range(N)]"
   ]
  },
  {
   "cell_type": "code",
   "execution_count": 17,
   "metadata": {},
   "outputs": [],
   "source": [
    "input_ga = 1\n",
    "for i in range(1,N):\n",
    "    if matrix[0][i] == 1:\n",
    "        input_ga = 0\n",
    "    ga[0][i] = input_ga"
   ]
  },
  {
   "cell_type": "code",
   "execution_count": 19,
   "metadata": {},
   "outputs": [
    {
     "name": "stdout",
     "output_type": "stream",
     "text": [
      "=========\n",
      "[[0, 1, 1, 1, 1, 1], [0, 0, 0, 0, 1, 2], [0, 0, 0, 0, 0, 1], [0, 0, 0, 0, 0, 1], [0, 0, 0, 0, 0, 1], [0, 0, 0, 0, 0, 1]]\n",
      "[[0, 0, 0, 0, 0, 0], [0, 0, 0, 1, 1, 1], [0, 0, 0, 0, 1, 2], [0, 0, 0, 0, 1, 2], [0, 0, 0, 0, 1, 3], [0, 0, 0, 0, 1, 4]]\n",
      "[[0, 0, 0, 0, 0, 0], [0, 0, 0, 0, 0, 0], [0, 0, 0, 1, 1, 1], [0, 0, 0, 1, 2, 3], [0, 0, 0, 1, 3, 5], [0, 0, 0, 1, 4, 8]]\n",
      "=========\n",
      "[[0, 1, 1, 1, 1, 1], [0, 0, 0, 0, 1, 2], [0, 0, 0, 0, 0, 1], [0, 0, 0, 0, 0, 1], [0, 0, 0, 0, 0, 1], [0, 0, 0, 0, 0, 1]]\n",
      "[[0, 0, 0, 0, 0, 0], [0, 0, 0, 1, 1, 1], [0, 0, 0, 0, 1, 2], [0, 0, 0, 0, 1, 2], [0, 0, 0, 0, 1, 3], [0, 0, 0, 0, 1, 4]]\n",
      "[[0, 0, 0, 0, 0, 0], [0, 0, 0, 0, 0, 0], [0, 0, 0, 1, 1, 1], [0, 0, 0, 1, 2, 3], [0, 0, 0, 1, 3, 5], [0, 0, 0, 1, 4, 8]]\n",
      "=========\n",
      "[[0, 1, 1, 1, 1, 1], [0, 0, 0, 0, 1, 2], [0, 0, 0, 0, 0, 1], [0, 0, 0, 0, 0, 1], [0, 0, 0, 0, 0, 1], [0, 0, 0, 0, 0, 1]]\n",
      "[[0, 0, 0, 0, 0, 0], [0, 0, 0, 1, 1, 1], [0, 0, 0, 0, 1, 2], [0, 0, 0, 0, 1, 2], [0, 0, 0, 0, 1, 3], [0, 0, 0, 0, 1, 4]]\n",
      "[[0, 0, 0, 0, 0, 0], [0, 0, 0, 0, 0, 0], [0, 0, 0, 1, 1, 1], [0, 0, 0, 1, 2, 3], [0, 0, 0, 1, 3, 5], [0, 0, 0, 1, 4, 8]]\n",
      "=========\n",
      "[[0, 1, 1, 1, 1, 1], [0, 0, 0, 0, 1, 2], [0, 0, 0, 0, 0, 1], [0, 0, 0, 0, 0, 1], [0, 0, 0, 0, 0, 1], [0, 0, 0, 0, 0, 1]]\n",
      "[[0, 0, 0, 0, 0, 0], [0, 0, 0, 1, 1, 1], [0, 0, 0, 0, 1, 2], [0, 0, 0, 0, 1, 2], [0, 0, 0, 0, 1, 3], [0, 0, 0, 0, 1, 4]]\n",
      "[[0, 0, 0, 0, 0, 0], [0, 0, 0, 0, 0, 0], [0, 0, 0, 1, 1, 1], [0, 0, 0, 1, 2, 3], [0, 0, 0, 1, 3, 5], [0, 0, 0, 1, 4, 8]]\n",
      "=========\n",
      "[[0, 1, 1, 1, 1, 1], [0, 0, 0, 0, 1, 2], [0, 0, 0, 0, 0, 1], [0, 0, 0, 0, 0, 1], [0, 0, 0, 0, 0, 1], [0, 0, 0, 0, 0, 1]]\n",
      "[[0, 0, 0, 0, 0, 0], [0, 0, 0, 1, 1, 1], [0, 0, 0, 0, 1, 2], [0, 0, 0, 0, 1, 2], [0, 0, 0, 0, 1, 3], [0, 0, 0, 0, 1, 4]]\n",
      "[[0, 0, 0, 0, 0, 0], [0, 0, 0, 0, 0, 0], [0, 0, 0, 1, 1, 1], [0, 0, 0, 1, 2, 3], [0, 0, 0, 1, 3, 5], [0, 0, 0, 1, 4, 8]]\n",
      "13\n"
     ]
    }
   ],
   "source": [
    "for row in range(1,N):\n",
    "    for column  in range(1,N):\n",
    "        if matrix[row][column] == 0 : # 다음 위치\n",
    "            ga[row][column] = ga[row][column - 1] + dae[row][column-1]\n",
    "            sae[row][column] = sae[row - 1][column] + dae[row - 1][column]\n",
    "        if matrix[row][column] == 0 and matrix[row - 1][column] == 0 and matrix[row][column - 1] == 0:\n",
    "            dae[row][column] = dae[row-1][column-1] + ga[row-1][column-1] + sae[row-1][column-1]\n",
    "    print(\"=========\")\n",
    "    print(ga)\n",
    "    print(dae)\n",
    "    print(sae)\n",
    "print(ga[N-1][N-1] + dae[N-1][N-1] + sae[N-1][N-1])"
   ]
  },
  {
   "cell_type": "code",
   "execution_count": null,
   "metadata": {},
   "outputs": [],
   "source": []
  }
 ],
 "metadata": {
  "kernelspec": {
   "display_name": "yeardream",
   "language": "python",
   "name": "python3"
  },
  "language_info": {
   "codemirror_mode": {
    "name": "ipython",
    "version": 3
   },
   "file_extension": ".py",
   "mimetype": "text/x-python",
   "name": "python",
   "nbconvert_exporter": "python",
   "pygments_lexer": "ipython3",
   "version": "3.9.16"
  },
  "orig_nbformat": 4
 },
 "nbformat": 4,
 "nbformat_minor": 2
}
